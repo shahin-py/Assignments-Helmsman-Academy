{
  "nbformat": 4,
  "nbformat_minor": 0,
  "metadata": {
    "colab": {
      "name": "ASSIGNMENT_1.ipynb",
      "provenance": [],
      "collapsed_sections": []
    },
    "kernelspec": {
      "name": "python3",
      "display_name": "Python 3"
    }
  },
  "cells": [
    {
      "cell_type": "markdown",
      "metadata": {
        "id": "mejdtKt2uhXv"
      },
      "source": [
        "##ASSIGNMENT 1"
      ]
    },
    {
      "cell_type": "markdown",
      "metadata": {
        "id": "6B-kqVezUx0P"
      },
      "source": [
        "##Question 1 & 2"
      ]
    },
    {
      "cell_type": "code",
      "metadata": {
        "id": "Nw195wTZTCik",
        "colab": {
          "base_uri": "https://localhost:8080/"
        },
        "outputId": "b89ab864-7127-4d51-e287-59a448890291"
      },
      "source": [
        "int(input(\"Enter A Number \")) + 3"
      ],
      "execution_count": 1,
      "outputs": [
        {
          "output_type": "stream",
          "text": [
            "Enter A Number 2\n"
          ],
          "name": "stdout"
        },
        {
          "output_type": "execute_result",
          "data": {
            "text/plain": [
              "5"
            ]
          },
          "metadata": {
            "tags": []
          },
          "execution_count": 1
        }
      ]
    },
    {
      "cell_type": "code",
      "metadata": {
        "id": "t2RTC8GRS5re",
        "colab": {
          "base_uri": "https://localhost:8080/"
        },
        "outputId": "d4b3f865-de9c-4e82-ea12-890f78b312ca"
      },
      "source": [
        "int(input(\"Enter A Number \")) - 3"
      ],
      "execution_count": null,
      "outputs": [
        {
          "output_type": "stream",
          "text": [
            "Enter A Number 9\n"
          ],
          "name": "stdout"
        },
        {
          "output_type": "execute_result",
          "data": {
            "text/plain": [
              "6"
            ]
          },
          "metadata": {
            "tags": []
          },
          "execution_count": 2
        }
      ]
    },
    {
      "cell_type": "code",
      "metadata": {
        "id": "EIdUkFX6TGwN",
        "colab": {
          "base_uri": "https://localhost:8080/"
        },
        "outputId": "3edee01f-a017-44e2-8108-e44fd9c00604"
      },
      "source": [
        "int(input (\"Enter A Number\")) * 3 "
      ],
      "execution_count": null,
      "outputs": [
        {
          "output_type": "stream",
          "text": [
            "Enter A Number7\n"
          ],
          "name": "stdout"
        },
        {
          "output_type": "execute_result",
          "data": {
            "text/plain": [
              "21"
            ]
          },
          "metadata": {
            "tags": []
          },
          "execution_count": 3
        }
      ]
    },
    {
      "cell_type": "code",
      "metadata": {
        "id": "lXlOhYUqS_Q1",
        "colab": {
          "base_uri": "https://localhost:8080/"
        },
        "outputId": "be2c8576-6759-4474-b6b1-88cebb5f6976"
      },
      "source": [
        "int(input (\"Enter A Number \")) / 3"
      ],
      "execution_count": null,
      "outputs": [
        {
          "output_type": "stream",
          "text": [
            "Enter A Number 2\n"
          ],
          "name": "stdout"
        },
        {
          "output_type": "execute_result",
          "data": {
            "text/plain": [
              "0.6666666666666666"
            ]
          },
          "metadata": {
            "tags": []
          },
          "execution_count": 5
        }
      ]
    },
    {
      "cell_type": "markdown",
      "metadata": {
        "id": "R1uStOHaUtth"
      },
      "source": [
        "##Question 3"
      ]
    },
    {
      "cell_type": "code",
      "metadata": {
        "id": "1GYfzP5aUECZ",
        "colab": {
          "base_uri": "https://localhost:8080/"
        },
        "outputId": "6bc78ad3-802d-4a45-d381-decd48655a30"
      },
      "source": [
        "a = 10 \r\n",
        "b = 20 \r\n",
        "a + b "
      ],
      "execution_count": null,
      "outputs": [
        {
          "output_type": "execute_result",
          "data": {
            "text/plain": [
              "30"
            ]
          },
          "metadata": {
            "tags": []
          },
          "execution_count": 6
        }
      ]
    },
    {
      "cell_type": "code",
      "metadata": {
        "id": "8JloNa9BUKFx",
        "colab": {
          "base_uri": "https://localhost:8080/"
        },
        "outputId": "2cf1b394-dc0f-482e-f45a-4eacd01f12bf"
      },
      "source": [
        "a = 10 \r\n",
        "b = 20 \r\n",
        "a - b "
      ],
      "execution_count": null,
      "outputs": [
        {
          "output_type": "execute_result",
          "data": {
            "text/plain": [
              "-10"
            ]
          },
          "metadata": {
            "tags": []
          },
          "execution_count": 7
        }
      ]
    },
    {
      "cell_type": "code",
      "metadata": {
        "id": "dITWbHaHUKqp",
        "colab": {
          "base_uri": "https://localhost:8080/"
        },
        "outputId": "e5870d2b-1b16-4d44-9ee3-1a1604f36497"
      },
      "source": [
        "a = 10 \r\n",
        "b = 20 \r\n",
        "a * b "
      ],
      "execution_count": null,
      "outputs": [
        {
          "output_type": "execute_result",
          "data": {
            "text/plain": [
              "200"
            ]
          },
          "metadata": {
            "tags": []
          },
          "execution_count": 8
        }
      ]
    },
    {
      "cell_type": "code",
      "metadata": {
        "id": "OpkdXtCVUK-R",
        "colab": {
          "base_uri": "https://localhost:8080/"
        },
        "outputId": "392fe62b-b479-4672-e52c-f4d125803ef7"
      },
      "source": [
        "a = 10 \r\n",
        "b = 20 \r\n",
        "a / b "
      ],
      "execution_count": null,
      "outputs": [
        {
          "output_type": "execute_result",
          "data": {
            "text/plain": [
              "0.5"
            ]
          },
          "metadata": {
            "tags": []
          },
          "execution_count": 9
        }
      ]
    },
    {
      "cell_type": "markdown",
      "metadata": {
        "id": "okv6SHW7Umuw"
      },
      "source": [
        "##Question 4"
      ]
    },
    {
      "cell_type": "code",
      "metadata": {
        "id": "-T4Wbg8bT3Nl",
        "colab": {
          "base_uri": "https://localhost:8080/"
        },
        "outputId": "2e658075-e0ef-4e59-d2b5-7998c7e7d6a1"
      },
      "source": [
        "a = int( input ( \"first variable  \")) \r\n",
        "b = int( input ( \"second variable \")) \r\n",
        "a + b"
      ],
      "execution_count": null,
      "outputs": [
        {
          "output_type": "stream",
          "text": [
            "first variable  5\n",
            "second variable 6\n"
          ],
          "name": "stdout"
        },
        {
          "output_type": "execute_result",
          "data": {
            "text/plain": [
              "11"
            ]
          },
          "metadata": {
            "tags": []
          },
          "execution_count": 10
        }
      ]
    },
    {
      "cell_type": "code",
      "metadata": {
        "id": "siYYfaImEzhL",
        "colab": {
          "base_uri": "https://localhost:8080/"
        },
        "outputId": "9fec162f-0daa-49ce-dcb2-924b954d3f07"
      },
      "source": [
        "a = int( input ( \"first variable  \")) \r\n",
        "b = int( input ( \"second variable \")) \r\n",
        "a - b"
      ],
      "execution_count": null,
      "outputs": [
        {
          "output_type": "stream",
          "text": [
            "first variable  7\n",
            "second variable 9\n"
          ],
          "name": "stdout"
        },
        {
          "output_type": "execute_result",
          "data": {
            "text/plain": [
              "-2"
            ]
          },
          "metadata": {
            "tags": []
          },
          "execution_count": 11
        }
      ]
    },
    {
      "cell_type": "code",
      "metadata": {
        "id": "vbxvgImGUb4A",
        "colab": {
          "base_uri": "https://localhost:8080/"
        },
        "outputId": "3c7e8a40-0c88-4043-afd9-30b014319f0c"
      },
      "source": [
        "a = int( input ( \"first variable  \")) \r\n",
        "b = int( input ( \"second variable \")) \r\n",
        "a * b"
      ],
      "execution_count": null,
      "outputs": [
        {
          "output_type": "stream",
          "text": [
            "first variable  4\n",
            "second variable 8\n"
          ],
          "name": "stdout"
        },
        {
          "output_type": "execute_result",
          "data": {
            "text/plain": [
              "32"
            ]
          },
          "metadata": {
            "tags": []
          },
          "execution_count": 12
        }
      ]
    },
    {
      "cell_type": "code",
      "metadata": {
        "id": "2hYljkv8UcM4",
        "colab": {
          "base_uri": "https://localhost:8080/"
        },
        "outputId": "b099843a-1cfc-48c3-d52f-b57078f64e30"
      },
      "source": [
        "a = int( input ( \"first variable  \")) \r\n",
        "b = int( input ( \"second variable \")) \r\n",
        "a / b"
      ],
      "execution_count": null,
      "outputs": [
        {
          "output_type": "stream",
          "text": [
            "first variable  2\n",
            "second variable 7\n"
          ],
          "name": "stdout"
        },
        {
          "output_type": "execute_result",
          "data": {
            "text/plain": [
              "0.2857142857142857"
            ]
          },
          "metadata": {
            "tags": []
          },
          "execution_count": 13
        }
      ]
    }
  ]
}