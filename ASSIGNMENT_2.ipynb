{
  "nbformat": 4,
  "nbformat_minor": 0,
  "metadata": {
    "colab": {
      "name": "ASSIGNMENT_2.ipynb",
      "provenance": [],
      "collapsed_sections": []
    },
    "kernelspec": {
      "name": "python3",
      "display_name": "Python 3"
    }
  },
  "cells": [
    {
      "cell_type": "markdown",
      "metadata": {
        "id": "EFnIdhxI_k1y"
      },
      "source": [
        "##QUESTION 1"
      ]
    },
    {
      "cell_type": "code",
      "metadata": {
        "id": "sWiI0HtOGbFK",
        "colab": {
          "base_uri": "https://localhost:8080/"
        },
        "outputId": "134e337f-5806-4e6c-a366-82102efa4ff8"
      },
      "source": [
        "mark = int (input(\"Enter the mark \"))\n",
        " \n",
        "if mark > 90 :\n",
        "  print ( \"A-Grade\")\n",
        "elif mark >= 80 :\n",
        "  print ( \"B-Grade\")\n",
        "elif mark >= 70 :\n",
        "  print ( \"C-Grade\")\n",
        "elif mark >= 60 :\n",
        "  print ( \"D-Grade\")\n",
        "elif mark >= 50 :\n",
        "  print ( \"E-Grade\")\n",
        "else :\n",
        "  print (\" Failed\")"
      ],
      "execution_count": 3,
      "outputs": [
        {
          "output_type": "stream",
          "text": [
            "Enter the mark 90\n",
            "B-Grade\n"
          ],
          "name": "stdout"
        }
      ]
    },
    {
      "cell_type": "markdown",
      "metadata": {
        "id": "FSUbWL2SV8AU"
      },
      "source": [
        "##QUESTION 2\r\n"
      ]
    },
    {
      "cell_type": "code",
      "metadata": {
        "id": "Gq8k4H-B_odJ",
        "colab": {
          "base_uri": "https://localhost:8080/"
        },
        "outputId": "df9ac553-ebd3-4fae-efd7-d12a82990a20"
      },
      "source": [
        "username = 'shahin'\n",
        "password = '8520'\n",
        "OTP = '5555'\n",
        "name = input (\"Enter the username \")\n",
        "\n",
        "if name == username :\n",
        "  user_password = input(\"Enter the password \")\n",
        "  if user_password == password :\n",
        "    user_code = input(\"Enter the OTP \")\n",
        "    if user_code == OTP :\n",
        "      print ( \"Welcome \" + username )\n",
        "      print ( \"How are you!\") \n",
        "    else :\n",
        "      print ( \"Incorrect OTP\" )\n",
        "      print ( \"try again!\")\n",
        "  else :\n",
        "    print ( \"Password incorrect\" )\n",
        "    print ( \"try again!\")\n",
        "else : \n",
        "  print (\"Invalid usernme\")"
      ],
      "execution_count": null,
      "outputs": [
        {
          "output_type": "stream",
          "text": [
            "Enter the username shahin\n",
            "Enter the password 8520\n",
            "Enter the OTP 5555\n",
            "Welcome shahin\n",
            "How are you!\n"
          ],
          "name": "stdout"
        }
      ]
    },
    {
      "cell_type": "markdown",
      "metadata": {
        "id": "x1t3td-VXB-7"
      },
      "source": [
        "##Question 3\r\n"
      ]
    },
    {
      "cell_type": "code",
      "metadata": {
        "id": "b2f98SoTDSH3",
        "colab": {
          "base_uri": "https://localhost:8080/"
        },
        "outputId": "42a4cd6f-cf94-4391-ca6d-f7a99fe46a57"
      },
      "source": [
        "student_marks = {\n",
        "    \"ram\" : 59,\n",
        "    \"roy\" : 79,\n",
        "    \"raj\" : 81,\n",
        "    \"ravi\": 70,\n",
        "    \"raju\": 85\n",
        "}\n",
        "student_marks.keys()\n",
        "for key in student_marks.keys() :\n",
        "  if student_marks[key] < 60 :\n",
        "    print (key + \" has failed\")\n"
      ],
      "execution_count": 6,
      "outputs": [
        {
          "output_type": "stream",
          "text": [
            "ram has failed\n"
          ],
          "name": "stdout"
        }
      ]
    }
  ]
}